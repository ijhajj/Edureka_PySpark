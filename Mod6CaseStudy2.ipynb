{
 "cells": [
  {
   "cell_type": "code",
   "execution_count": 1,
   "metadata": {
    "collapsed": true
   },
   "outputs": [],
   "source": [
    "import re\n",
    "from pyspark.sql.functions import regexp_extract, col"
   ]
  },
  {
   "cell_type": "code",
   "execution_count": 2,
   "metadata": {
    "collapsed": true
   },
   "outputs": [],
   "source": [
    "from pyspark.sql.session import SparkSession"
   ]
  },
  {
   "cell_type": "code",
   "execution_count": 3,
   "metadata": {
    "collapsed": true
   },
   "outputs": [],
   "source": [
    "spark=SparkSession.builder.appName(\"Module 5 SparkSession take\").getOrCreate()"
   ]
  },
  {
   "cell_type": "code",
   "execution_count": 4,
   "metadata": {
    "collapsed": true
   },
   "outputs": [],
   "source": [
    "access_logs_DF = spark.read.text(\"/user/edureka_524533/Datasets/access.clean.log\")"
   ]
  },
  {
   "cell_type": "code",
   "execution_count": 5,
   "metadata": {},
   "outputs": [
    {
     "name": "stdout",
     "output_type": "stream",
     "text": [
      "root\n",
      " |-- value: string (nullable = true)\n",
      "\n"
     ]
    }
   ],
   "source": [
    "access_logs_DF.printSchema()"
   ]
  },
  {
   "cell_type": "code",
   "execution_count": 6,
   "metadata": {},
   "outputs": [
    {
     "data": {
      "text/plain": [
       "2338006"
      ]
     },
     "execution_count": 6,
     "metadata": {},
     "output_type": "execute_result"
    }
   ],
   "source": [
    "access_logs_DF.count()"
   ]
  },
  {
   "cell_type": "code",
   "execution_count": 7,
   "metadata": {
    "collapsed": true
   },
   "outputs": [],
   "source": [
    "#Extract time stamps\n",
    "ts_pattern = r'\\d{2}/\\w{3}/\\d{4}:\\d{2}:\\d{2}:\\d{2}'"
   ]
  },
  {
   "cell_type": "code",
   "execution_count": 8,
   "metadata": {
    "collapsed": true
   },
   "outputs": [],
   "source": [
    "result = access_logs_DF.withColumn('Timestamp', regexp_extract(col('value'), ts_pattern, 0))"
   ]
  },
  {
   "cell_type": "code",
   "execution_count": 9,
   "metadata": {
    "collapsed": true
   },
   "outputs": [],
   "source": [
    "dt_pattern = r'\\d{2}/\\w{3}/\\d{4}'"
   ]
  },
  {
   "cell_type": "code",
   "execution_count": 10,
   "metadata": {
    "collapsed": true
   },
   "outputs": [],
   "source": [
    "result = result.withColumn('Date', regexp_extract(col('TimeStamp'), dt_pattern, 0))"
   ]
  },
  {
   "cell_type": "code",
   "execution_count": 11,
   "metadata": {
    "collapsed": true
   },
   "outputs": [],
   "source": [
    "#Extract Host Name\n",
    "ht_pattern=r'\\d{1,3}\\.\\d{1,3}\\.\\d{1,3}\\.\\d{1,3}'"
   ]
  },
  {
   "cell_type": "code",
   "execution_count": 12,
   "metadata": {
    "collapsed": true
   },
   "outputs": [],
   "source": [
    "result = result.withColumn('Host', regexp_extract(col('value'), ht_pattern, 0))"
   ]
  },
  {
   "cell_type": "code",
   "execution_count": 13,
   "metadata": {
    "collapsed": true
   },
   "outputs": [],
   "source": [
    "#Extract Bytes\n",
    "byt_pattern=r'\\s\\d{4,}\\s'"
   ]
  },
  {
   "cell_type": "code",
   "execution_count": 14,
   "metadata": {
    "collapsed": true
   },
   "outputs": [],
   "source": [
    "result = result.withColumn('Bytes', regexp_extract(col('value'), byt_pattern, 0))"
   ]
  },
  {
   "cell_type": "code",
   "execution_count": 15,
   "metadata": {
    "collapsed": true
   },
   "outputs": [],
   "source": [
    "meth_pattern =r'\\s[A-Z]{3,}\\s'"
   ]
  },
  {
   "cell_type": "code",
   "execution_count": 16,
   "metadata": {
    "collapsed": true
   },
   "outputs": [],
   "source": [
    "result = result.withColumn('Method', regexp_extract(col('value'), meth_pattern, 0))"
   ]
  },
  {
   "cell_type": "code",
   "execution_count": 17,
   "metadata": {
    "collapsed": true
   },
   "outputs": [],
   "source": [
    "Url_pattern = r'\\s/(\\S+)'"
   ]
  },
  {
   "cell_type": "code",
   "execution_count": 18,
   "metadata": {
    "collapsed": true
   },
   "outputs": [],
   "source": [
    "result = result.withColumn('URL', regexp_extract(col('value'), Url_pattern, 0))"
   ]
  },
  {
   "cell_type": "code",
   "execution_count": 19,
   "metadata": {
    "collapsed": true
   },
   "outputs": [],
   "source": [
    "#Extract Status Codes from each\n",
    "status_pattern = r'\\s(\\d{3})\\s'"
   ]
  },
  {
   "cell_type": "code",
   "execution_count": 20,
   "metadata": {
    "collapsed": true
   },
   "outputs": [],
   "source": [
    "result = result.withColumn('StatusCode', regexp_extract(col('value'), status_pattern, 1))"
   ]
  },
  {
   "cell_type": "code",
   "execution_count": 21,
   "metadata": {},
   "outputs": [
    {
     "name": "stdout",
     "output_type": "stream",
     "text": [
      "+--------------------+--------------------+-----------+---------------+------+------+--------------------+----------+\n",
      "|               value|           Timestamp|       Date|           Host| Bytes|Method|                 URL|StatusCode|\n",
      "+--------------------+--------------------+-----------+---------------+------+------+--------------------+----------+\n",
      "|109.169.248.247 -...|12/Dec/2015:18:25:11|12/Dec/2015|109.169.248.247| 4263 |  GET |     /administrator/|       200|\n",
      "|109.169.248.247 -...|12/Dec/2015:18:25:11|12/Dec/2015|109.169.248.247| 4494 | POST | /administrator/i...|       200|\n",
      "|46.72.177.4 - - [...|12/Dec/2015:18:31:08|12/Dec/2015|    46.72.177.4| 4263 |  GET |     /administrator/|       200|\n",
      "|46.72.177.4 - - [...|12/Dec/2015:18:31:08|12/Dec/2015|    46.72.177.4| 4494 | POST | /administrator/i...|       200|\n",
      "|83.167.113.100 - ...|12/Dec/2015:18:31:25|12/Dec/2015| 83.167.113.100| 4263 |  GET |     /administrator/|       200|\n",
      "|83.167.113.100 - ...|12/Dec/2015:18:31:25|12/Dec/2015| 83.167.113.100| 4494 | POST | /administrator/i...|       200|\n",
      "|95.29.198.15 - - ...|12/Dec/2015:18:32:10|12/Dec/2015|   95.29.198.15| 4263 |  GET |     /administrator/|       200|\n",
      "|95.29.198.15 - - ...|12/Dec/2015:18:32:11|12/Dec/2015|   95.29.198.15| 4494 | POST | /administrator/i...|       200|\n",
      "|109.184.11.34 - -...|12/Dec/2015:18:32:56|12/Dec/2015|  109.184.11.34| 4263 |  GET |     /administrator/|       200|\n",
      "|109.184.11.34 - -...|12/Dec/2015:18:32:56|12/Dec/2015|  109.184.11.34| 4494 | POST | /administrator/i...|       200|\n",
      "|91.227.29.79 - - ...|12/Dec/2015:18:33:51|12/Dec/2015|   91.227.29.79| 4263 |  GET |     /administrator/|       200|\n",
      "|91.227.29.79 - - ...|12/Dec/2015:18:33:52|12/Dec/2015|   91.227.29.79| 4494 | POST | /administrator/i...|       200|\n",
      "|90.154.66.233 - -...|12/Dec/2015:18:36:16|12/Dec/2015|  90.154.66.233| 4263 |  GET |     /administrator/|       200|\n",
      "|90.154.66.233 - -...|12/Dec/2015:18:36:16|12/Dec/2015|  90.154.66.233| 4494 | POST | /administrator/i...|       200|\n",
      "|95.140.24.131 - -...|12/Dec/2015:18:38:42|12/Dec/2015|  95.140.24.131| 4263 |  GET |     /administrator/|       200|\n",
      "|95.140.24.131 - -...|12/Dec/2015:18:38:42|12/Dec/2015|  95.140.24.131| 4494 | POST | /administrator/i...|       200|\n",
      "|95.188.245.16 - -...|12/Dec/2015:18:38:55|12/Dec/2015|  95.188.245.16| 4263 |  GET |     /administrator/|       200|\n",
      "|95.188.245.16 - -...|12/Dec/2015:18:38:56|12/Dec/2015|  95.188.245.16| 4494 | POST | /administrator/i...|       200|\n",
      "|46.72.213.133 - -...|12/Dec/2015:18:39:27|12/Dec/2015|  46.72.213.133| 4263 |  GET |     /administrator/|       200|\n",
      "|46.72.213.133 - -...|12/Dec/2015:18:39:27|12/Dec/2015|  46.72.213.133| 4494 | POST | /administrator/i...|       200|\n",
      "+--------------------+--------------------+-----------+---------------+------+------+--------------------+----------+\n",
      "only showing top 20 rows\n",
      "\n"
     ]
    }
   ],
   "source": [
    "result.show()"
   ]
  },
  {
   "cell_type": "code",
   "execution_count": 22,
   "metadata": {
    "collapsed": true
   },
   "outputs": [],
   "source": [
    "# Verify there are no null columns in the original dataset.\n",
    "bad_rows_df = result.filter(result['Host'].isNull()| \n",
    "                             result['Timestamp'].isNull() | \n",
    "                             result['Method'].isNull() |\n",
    "                             result['StatusCode'].isNull() |\n",
    "                             result['Bytes'].isNull()|\n",
    "                             result['Date'].isNull())"
   ]
  },
  {
   "cell_type": "code",
   "execution_count": 38,
   "metadata": {},
   "outputs": [
    {
     "name": "stdout",
     "output_type": "stream",
     "text": [
      "+-----+---------+----+----+-----+------+---+----------+\n",
      "|value|Timestamp|Date|Host|Bytes|Method|URL|StatusCode|\n",
      "+-----+---------+----+----+-----+------+---+----------+\n",
      "+-----+---------+----+----+-----+------+---+----------+\n",
      "\n"
     ]
    }
   ],
   "source": [
    "bad_rows_df.show()"
   ]
  },
  {
   "cell_type": "code",
   "execution_count": 23,
   "metadata": {},
   "outputs": [
    {
     "data": {
      "text/plain": [
       "0"
      ]
     },
     "execution_count": 23,
     "metadata": {},
     "output_type": "execute_result"
    }
   ],
   "source": [
    "bad_rows_df.count()"
   ]
  },
  {
   "cell_type": "code",
   "execution_count": 24,
   "metadata": {
    "collapsed": true
   },
   "outputs": [],
   "source": [
    "#Describe which HTTP status values appear in data and how many\n",
    "StatusCodeDF = result.select(result['StatusCode'])"
   ]
  },
  {
   "cell_type": "code",
   "execution_count": 25,
   "metadata": {
    "collapsed": true
   },
   "outputs": [],
   "source": [
    "StatusCodeDF=StatusCodeDF.dropDuplicates()"
   ]
  },
  {
   "cell_type": "code",
   "execution_count": 26,
   "metadata": {},
   "outputs": [
    {
     "name": "stdout",
     "output_type": "stream",
     "text": [
      "+----------+\n",
      "|StatusCode|\n",
      "+----------+\n",
      "|       200|\n",
      "|       406|\n",
      "|       401|\n",
      "|       206|\n",
      "|       501|\n",
      "|       404|\n",
      "|       403|\n",
      "|       412|\n",
      "|       303|\n",
      "|       500|\n",
      "|       304|\n",
      "|       405|\n",
      "|       400|\n",
      "|       301|\n",
      "+----------+\n",
      "\n"
     ]
    }
   ],
   "source": [
    "StatusCodeDF.show()"
   ]
  },
  {
   "cell_type": "code",
   "execution_count": 27,
   "metadata": {},
   "outputs": [
    {
     "data": {
      "text/plain": [
       "14"
      ]
     },
     "execution_count": 27,
     "metadata": {},
     "output_type": "execute_result"
    }
   ],
   "source": [
    "StatusCodeDF.count()"
   ]
  },
  {
   "cell_type": "code",
   "execution_count": 28,
   "metadata": {
    "collapsed": true
   },
   "outputs": [],
   "source": [
    "#How many unique hosts are there in the entire log and their average request\n",
    "HostsDF = result.select(result['Host'],result['Bytes'])"
   ]
  },
  {
   "cell_type": "code",
   "execution_count": 29,
   "metadata": {
    "collapsed": true
   },
   "outputs": [],
   "source": [
    "from pyspark.sql import functions as F"
   ]
  },
  {
   "cell_type": "code",
   "execution_count": 30,
   "metadata": {
    "collapsed": true
   },
   "outputs": [],
   "source": [
    "HostsDF = HostsDF.groupby('Host').agg(F.mean('Bytes'),F.count('Bytes').alias('AverageRequests'))"
   ]
  },
  {
   "cell_type": "code",
   "execution_count": 31,
   "metadata": {},
   "outputs": [
    {
     "name": "stdout",
     "output_type": "stream",
     "text": [
      "+--------------+------------------+---------------+\n",
      "|          Host|        avg(Bytes)|AverageRequests|\n",
      "+--------------+------------------+---------------+\n",
      "|   46.72.177.4|            4378.5|              8|\n",
      "| 194.48.218.78|            4378.5|              2|\n",
      "| 31.181.253.16|            4378.5|              2|\n",
      "|  37.112.46.76|            4378.5|              2|\n",
      "| 95.107.90.225|            4378.5|              2|\n",
      "|  5.138.58.118|            4378.5|              2|\n",
      "|95.188.228.228|            4378.5|              2|\n",
      "|  66.7.119.112|          887508.0|              1|\n",
      "| 145.255.2.176|            4378.5|              4|\n",
      "| 176.59.208.95|            4378.5|              2|\n",
      "| 62.133.162.65|            4378.5|              4|\n",
      "| 95.29.129.235|            4378.5|              2|\n",
      "|  66.249.64.64|10022.774193548386|             41|\n",
      "| 207.46.13.165| 8839.333333333334|              6|\n",
      "| 180.76.15.162|29545.735294117647|             75|\n",
      "|  37.139.52.40|         1396107.0|             16|\n",
      "| 89.144.209.67| 53847.52173913043|             26|\n",
      "|23.106.216.107|         1507464.0|              3|\n",
      "|  195.20.125.6|            4378.5|             18|\n",
      "| 92.113.63.101|            4378.5|              6|\n",
      "+--------------+------------------+---------------+\n",
      "only showing top 20 rows\n",
      "\n"
     ]
    }
   ],
   "source": [
    "HostsDF.show()"
   ]
  },
  {
   "cell_type": "code",
   "execution_count": 32,
   "metadata": {},
   "outputs": [
    {
     "data": {
      "text/plain": [
       "40836"
      ]
     },
     "execution_count": 32,
     "metadata": {},
     "output_type": "execute_result"
    }
   ],
   "source": [
    "HostsDF.count()"
   ]
  },
  {
   "cell_type": "code",
   "execution_count": 33,
   "metadata": {},
   "outputs": [
    {
     "name": "stdout",
     "output_type": "stream",
     "text": [
      "+--------------------+--------------------+-----------+---------------+------+------+--------------------+----------+\n",
      "|               value|           Timestamp|       Date|           Host| Bytes|Method|                 URL|StatusCode|\n",
      "+--------------------+--------------------+-----------+---------------+------+------+--------------------+----------+\n",
      "|109.169.248.247 -...|12/Dec/2015:18:25:11|12/Dec/2015|109.169.248.247| 4263 |  GET |     /administrator/|       200|\n",
      "|109.169.248.247 -...|12/Dec/2015:18:25:11|12/Dec/2015|109.169.248.247| 4494 | POST | /administrator/i...|       200|\n",
      "|46.72.177.4 - - [...|12/Dec/2015:18:31:08|12/Dec/2015|    46.72.177.4| 4263 |  GET |     /administrator/|       200|\n",
      "|46.72.177.4 - - [...|12/Dec/2015:18:31:08|12/Dec/2015|    46.72.177.4| 4494 | POST | /administrator/i...|       200|\n",
      "|83.167.113.100 - ...|12/Dec/2015:18:31:25|12/Dec/2015| 83.167.113.100| 4263 |  GET |     /administrator/|       200|\n",
      "|83.167.113.100 - ...|12/Dec/2015:18:31:25|12/Dec/2015| 83.167.113.100| 4494 | POST | /administrator/i...|       200|\n",
      "|95.29.198.15 - - ...|12/Dec/2015:18:32:10|12/Dec/2015|   95.29.198.15| 4263 |  GET |     /administrator/|       200|\n",
      "|95.29.198.15 - - ...|12/Dec/2015:18:32:11|12/Dec/2015|   95.29.198.15| 4494 | POST | /administrator/i...|       200|\n",
      "|109.184.11.34 - -...|12/Dec/2015:18:32:56|12/Dec/2015|  109.184.11.34| 4263 |  GET |     /administrator/|       200|\n",
      "|109.184.11.34 - -...|12/Dec/2015:18:32:56|12/Dec/2015|  109.184.11.34| 4494 | POST | /administrator/i...|       200|\n",
      "|91.227.29.79 - - ...|12/Dec/2015:18:33:51|12/Dec/2015|   91.227.29.79| 4263 |  GET |     /administrator/|       200|\n",
      "|91.227.29.79 - - ...|12/Dec/2015:18:33:52|12/Dec/2015|   91.227.29.79| 4494 | POST | /administrator/i...|       200|\n",
      "|90.154.66.233 - -...|12/Dec/2015:18:36:16|12/Dec/2015|  90.154.66.233| 4263 |  GET |     /administrator/|       200|\n",
      "|90.154.66.233 - -...|12/Dec/2015:18:36:16|12/Dec/2015|  90.154.66.233| 4494 | POST | /administrator/i...|       200|\n",
      "|95.140.24.131 - -...|12/Dec/2015:18:38:42|12/Dec/2015|  95.140.24.131| 4263 |  GET |     /administrator/|       200|\n",
      "|95.140.24.131 - -...|12/Dec/2015:18:38:42|12/Dec/2015|  95.140.24.131| 4494 | POST | /administrator/i...|       200|\n",
      "|95.188.245.16 - -...|12/Dec/2015:18:38:55|12/Dec/2015|  95.188.245.16| 4263 |  GET |     /administrator/|       200|\n",
      "|95.188.245.16 - -...|12/Dec/2015:18:38:56|12/Dec/2015|  95.188.245.16| 4494 | POST | /administrator/i...|       200|\n",
      "|46.72.213.133 - -...|12/Dec/2015:18:39:27|12/Dec/2015|  46.72.213.133| 4263 |  GET |     /administrator/|       200|\n",
      "|46.72.213.133 - -...|12/Dec/2015:18:39:27|12/Dec/2015|  46.72.213.133| 4494 | POST | /administrator/i...|       200|\n",
      "+--------------------+--------------------+-----------+---------------+------+------+--------------------+----------+\n",
      "only showing top 20 rows\n",
      "\n"
     ]
    }
   ],
   "source": [
    "# Find out how many 404 HTTP codes are in access logs\n",
    "result.show()"
   ]
  },
  {
   "cell_type": "code",
   "execution_count": 36,
   "metadata": {
    "collapsed": true
   },
   "outputs": [],
   "source": [
    "Count404 = result.where(result['StatusCode']=='404').count()"
   ]
  },
  {
   "cell_type": "code",
   "execution_count": 37,
   "metadata": {},
   "outputs": [
    {
     "data": {
      "text/plain": [
       "227101"
      ]
     },
     "execution_count": 37,
     "metadata": {},
     "output_type": "execute_result"
    }
   ],
   "source": [
    "Count404"
   ]
  },
  {
   "cell_type": "code",
   "execution_count": null,
   "metadata": {
    "collapsed": true
   },
   "outputs": [],
   "source": []
  }
 ],
 "metadata": {
  "kernelspec": {
   "display_name": "PySpark",
   "language": "python",
   "name": "pyspark"
  },
  "language_info": {
   "codemirror_mode": {
    "name": "ipython",
    "version": 2
   },
   "file_extension": ".py",
   "mimetype": "text/x-python",
   "name": "python",
   "nbconvert_exporter": "python",
   "pygments_lexer": "ipython2",
   "version": "2.7.14"
  }
 },
 "nbformat": 4,
 "nbformat_minor": 2
}
